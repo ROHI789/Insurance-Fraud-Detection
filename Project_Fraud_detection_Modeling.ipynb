{
 "cells": [
  {
   "cell_type": "code",
   "execution_count": 48,
   "id": "f4f0d352",
   "metadata": {
    "id": "f4f0d352"
   },
   "outputs": [],
   "source": [
    "import pandas as pd\n",
    "import numpy as np\n",
    "import matplotlib.pyplot as plt\n",
    "import seaborn as sns\n",
    "import warnings\n",
    "warnings.filterwarnings('ignore')"
   ]
  },
  {
   "cell_type": "code",
   "execution_count": 49,
   "id": "0fcbcf3a",
   "metadata": {
    "colab": {
     "base_uri": "https://localhost:8080/",
     "height": 488
    },
    "id": "0fcbcf3a",
    "outputId": "0323f3b7-1fd3-41f4-b5de-1cc11f3caeb2",
    "scrolled": true
   },
   "outputs": [
    {
     "data": {
      "text/html": [
       "<div>\n",
       "<style scoped>\n",
       "    .dataframe tbody tr th:only-of-type {\n",
       "        vertical-align: middle;\n",
       "    }\n",
       "\n",
       "    .dataframe tbody tr th {\n",
       "        vertical-align: top;\n",
       "    }\n",
       "\n",
       "    .dataframe thead th {\n",
       "        text-align: right;\n",
       "    }\n",
       "</style>\n",
       "<table border=\"1\" class=\"dataframe\">\n",
       "  <thead>\n",
       "    <tr style=\"text-align: right;\">\n",
       "      <th></th>\n",
       "      <th>Area_Service</th>\n",
       "      <th>Hospital_County</th>\n",
       "      <th>Age</th>\n",
       "      <th>Gender</th>\n",
       "      <th>Cultural_group</th>\n",
       "      <th>ethnicity</th>\n",
       "      <th>Days_spend_hsptl</th>\n",
       "      <th>Admission_type</th>\n",
       "      <th>Home_or_self_care</th>\n",
       "      <th>ccs_diagnosis_code</th>\n",
       "      <th>ccs_procedure_code</th>\n",
       "      <th>apr_drg_description</th>\n",
       "      <th>Mortality_risk</th>\n",
       "      <th>Surg_Description</th>\n",
       "      <th>Weight_baby</th>\n",
       "      <th>Abortion</th>\n",
       "      <th>Emergency_dept</th>\n",
       "      <th>Tot_charg</th>\n",
       "      <th>Result</th>\n",
       "      <th>Payment_Typology</th>\n",
       "    </tr>\n",
       "  </thead>\n",
       "  <tbody>\n",
       "    <tr>\n",
       "      <th>0</th>\n",
       "      <td>6</td>\n",
       "      <td>1</td>\n",
       "      <td>2</td>\n",
       "      <td>0</td>\n",
       "      <td>3</td>\n",
       "      <td>0</td>\n",
       "      <td>4</td>\n",
       "      <td>0</td>\n",
       "      <td>7</td>\n",
       "      <td>122</td>\n",
       "      <td>0</td>\n",
       "      <td>237</td>\n",
       "      <td>1.0</td>\n",
       "      <td>0</td>\n",
       "      <td>0</td>\n",
       "      <td>0</td>\n",
       "      <td>1</td>\n",
       "      <td>5511.95</td>\n",
       "      <td>1</td>\n",
       "      <td>1</td>\n",
       "    </tr>\n",
       "    <tr>\n",
       "      <th>1</th>\n",
       "      <td>6</td>\n",
       "      <td>1</td>\n",
       "      <td>4</td>\n",
       "      <td>0</td>\n",
       "      <td>3</td>\n",
       "      <td>0</td>\n",
       "      <td>4</td>\n",
       "      <td>5</td>\n",
       "      <td>17</td>\n",
       "      <td>197</td>\n",
       "      <td>0</td>\n",
       "      <td>38</td>\n",
       "      <td>2.0</td>\n",
       "      <td>0</td>\n",
       "      <td>0</td>\n",
       "      <td>0</td>\n",
       "      <td>1</td>\n",
       "      <td>4783.20</td>\n",
       "      <td>1</td>\n",
       "      <td>1</td>\n",
       "    </tr>\n",
       "    <tr>\n",
       "      <th>2</th>\n",
       "      <td>6</td>\n",
       "      <td>1</td>\n",
       "      <td>2</td>\n",
       "      <td>0</td>\n",
       "      <td>3</td>\n",
       "      <td>0</td>\n",
       "      <td>3</td>\n",
       "      <td>5</td>\n",
       "      <td>7</td>\n",
       "      <td>122</td>\n",
       "      <td>0</td>\n",
       "      <td>237</td>\n",
       "      <td>1.0</td>\n",
       "      <td>0</td>\n",
       "      <td>0</td>\n",
       "      <td>0</td>\n",
       "      <td>1</td>\n",
       "      <td>3829.15</td>\n",
       "      <td>1</td>\n",
       "      <td>1</td>\n",
       "    </tr>\n",
       "    <tr>\n",
       "      <th>3</th>\n",
       "      <td>6</td>\n",
       "      <td>1</td>\n",
       "      <td>0</td>\n",
       "      <td>0</td>\n",
       "      <td>3</td>\n",
       "      <td>0</td>\n",
       "      <td>1</td>\n",
       "      <td>5</td>\n",
       "      <td>7</td>\n",
       "      <td>122</td>\n",
       "      <td>0</td>\n",
       "      <td>237</td>\n",
       "      <td>1.0</td>\n",
       "      <td>0</td>\n",
       "      <td>0</td>\n",
       "      <td>0</td>\n",
       "      <td>1</td>\n",
       "      <td>1108.20</td>\n",
       "      <td>0</td>\n",
       "      <td>1</td>\n",
       "    </tr>\n",
       "    <tr>\n",
       "      <th>4</th>\n",
       "      <td>6</td>\n",
       "      <td>1</td>\n",
       "      <td>4</td>\n",
       "      <td>0</td>\n",
       "      <td>3</td>\n",
       "      <td>0</td>\n",
       "      <td>3</td>\n",
       "      <td>0</td>\n",
       "      <td>7</td>\n",
       "      <td>122</td>\n",
       "      <td>0</td>\n",
       "      <td>237</td>\n",
       "      <td>3.0</td>\n",
       "      <td>0</td>\n",
       "      <td>0</td>\n",
       "      <td>0</td>\n",
       "      <td>1</td>\n",
       "      <td>3418.18</td>\n",
       "      <td>1</td>\n",
       "      <td>1</td>\n",
       "    </tr>\n",
       "    <tr>\n",
       "      <th>...</th>\n",
       "      <td>...</td>\n",
       "      <td>...</td>\n",
       "      <td>...</td>\n",
       "      <td>...</td>\n",
       "      <td>...</td>\n",
       "      <td>...</td>\n",
       "      <td>...</td>\n",
       "      <td>...</td>\n",
       "      <td>...</td>\n",
       "      <td>...</td>\n",
       "      <td>...</td>\n",
       "      <td>...</td>\n",
       "      <td>...</td>\n",
       "      <td>...</td>\n",
       "      <td>...</td>\n",
       "      <td>...</td>\n",
       "      <td>...</td>\n",
       "      <td>...</td>\n",
       "      <td>...</td>\n",
       "      <td>...</td>\n",
       "    </tr>\n",
       "    <tr>\n",
       "      <th>1041260</th>\n",
       "      <td>4</td>\n",
       "      <td>2</td>\n",
       "      <td>4</td>\n",
       "      <td>0</td>\n",
       "      <td>1</td>\n",
       "      <td>1</td>\n",
       "      <td>6</td>\n",
       "      <td>1</td>\n",
       "      <td>18</td>\n",
       "      <td>106</td>\n",
       "      <td>29</td>\n",
       "      <td>28</td>\n",
       "      <td>3.0</td>\n",
       "      <td>0</td>\n",
       "      <td>0</td>\n",
       "      <td>0</td>\n",
       "      <td>1</td>\n",
       "      <td>69650.41</td>\n",
       "      <td>1</td>\n",
       "      <td>3</td>\n",
       "    </tr>\n",
       "    <tr>\n",
       "      <th>1041261</th>\n",
       "      <td>4</td>\n",
       "      <td>2</td>\n",
       "      <td>0</td>\n",
       "      <td>0</td>\n",
       "      <td>1</td>\n",
       "      <td>0</td>\n",
       "      <td>2</td>\n",
       "      <td>1</td>\n",
       "      <td>7</td>\n",
       "      <td>8</td>\n",
       "      <td>231</td>\n",
       "      <td>227</td>\n",
       "      <td>1.0</td>\n",
       "      <td>0</td>\n",
       "      <td>0</td>\n",
       "      <td>0</td>\n",
       "      <td>0</td>\n",
       "      <td>13587.38</td>\n",
       "      <td>1</td>\n",
       "      <td>3</td>\n",
       "    </tr>\n",
       "    <tr>\n",
       "      <th>1041262</th>\n",
       "      <td>4</td>\n",
       "      <td>2</td>\n",
       "      <td>3</td>\n",
       "      <td>1</td>\n",
       "      <td>1</td>\n",
       "      <td>1</td>\n",
       "      <td>13</td>\n",
       "      <td>1</td>\n",
       "      <td>15</td>\n",
       "      <td>151</td>\n",
       "      <td>88</td>\n",
       "      <td>99</td>\n",
       "      <td>4.0</td>\n",
       "      <td>0</td>\n",
       "      <td>0</td>\n",
       "      <td>0</td>\n",
       "      <td>1</td>\n",
       "      <td>104629.78</td>\n",
       "      <td>0</td>\n",
       "      <td>3</td>\n",
       "    </tr>\n",
       "    <tr>\n",
       "      <th>1041263</th>\n",
       "      <td>4</td>\n",
       "      <td>2</td>\n",
       "      <td>2</td>\n",
       "      <td>0</td>\n",
       "      <td>0</td>\n",
       "      <td>0</td>\n",
       "      <td>2</td>\n",
       "      <td>1</td>\n",
       "      <td>7</td>\n",
       "      <td>143</td>\n",
       "      <td>86</td>\n",
       "      <td>109</td>\n",
       "      <td>1.0</td>\n",
       "      <td>1</td>\n",
       "      <td>0</td>\n",
       "      <td>0</td>\n",
       "      <td>1</td>\n",
       "      <td>27521.41</td>\n",
       "      <td>1</td>\n",
       "      <td>3</td>\n",
       "    </tr>\n",
       "    <tr>\n",
       "      <th>1041264</th>\n",
       "      <td>4</td>\n",
       "      <td>2</td>\n",
       "      <td>3</td>\n",
       "      <td>1</td>\n",
       "      <td>1</td>\n",
       "      <td>1</td>\n",
       "      <td>2</td>\n",
       "      <td>1</td>\n",
       "      <td>7</td>\n",
       "      <td>106</td>\n",
       "      <td>0</td>\n",
       "      <td>28</td>\n",
       "      <td>1.0</td>\n",
       "      <td>0</td>\n",
       "      <td>0</td>\n",
       "      <td>0</td>\n",
       "      <td>1</td>\n",
       "      <td>24832.23</td>\n",
       "      <td>1</td>\n",
       "      <td>2</td>\n",
       "    </tr>\n",
       "  </tbody>\n",
       "</table>\n",
       "<p>1041265 rows × 20 columns</p>\n",
       "</div>"
      ],
      "text/plain": [
       "         Area_Service  Hospital_County  Age  Gender  Cultural_group  \\\n",
       "0                   6                1    2       0               3   \n",
       "1                   6                1    4       0               3   \n",
       "2                   6                1    2       0               3   \n",
       "3                   6                1    0       0               3   \n",
       "4                   6                1    4       0               3   \n",
       "...               ...              ...  ...     ...             ...   \n",
       "1041260             4                2    4       0               1   \n",
       "1041261             4                2    0       0               1   \n",
       "1041262             4                2    3       1               1   \n",
       "1041263             4                2    2       0               0   \n",
       "1041264             4                2    3       1               1   \n",
       "\n",
       "         ethnicity  Days_spend_hsptl  Admission_type  Home_or_self_care  \\\n",
       "0                0                 4               0                  7   \n",
       "1                0                 4               5                 17   \n",
       "2                0                 3               5                  7   \n",
       "3                0                 1               5                  7   \n",
       "4                0                 3               0                  7   \n",
       "...            ...               ...             ...                ...   \n",
       "1041260          1                 6               1                 18   \n",
       "1041261          0                 2               1                  7   \n",
       "1041262          1                13               1                 15   \n",
       "1041263          0                 2               1                  7   \n",
       "1041264          1                 2               1                  7   \n",
       "\n",
       "         ccs_diagnosis_code  ccs_procedure_code  apr_drg_description  \\\n",
       "0                       122                   0                  237   \n",
       "1                       197                   0                   38   \n",
       "2                       122                   0                  237   \n",
       "3                       122                   0                  237   \n",
       "4                       122                   0                  237   \n",
       "...                     ...                 ...                  ...   \n",
       "1041260                 106                  29                   28   \n",
       "1041261                   8                 231                  227   \n",
       "1041262                 151                  88                   99   \n",
       "1041263                 143                  86                  109   \n",
       "1041264                 106                   0                   28   \n",
       "\n",
       "         Mortality_risk  Surg_Description  Weight_baby  Abortion  \\\n",
       "0                   1.0                 0            0         0   \n",
       "1                   2.0                 0            0         0   \n",
       "2                   1.0                 0            0         0   \n",
       "3                   1.0                 0            0         0   \n",
       "4                   3.0                 0            0         0   \n",
       "...                 ...               ...          ...       ...   \n",
       "1041260             3.0                 0            0         0   \n",
       "1041261             1.0                 0            0         0   \n",
       "1041262             4.0                 0            0         0   \n",
       "1041263             1.0                 1            0         0   \n",
       "1041264             1.0                 0            0         0   \n",
       "\n",
       "         Emergency_dept  Tot_charg  Result  Payment_Typology  \n",
       "0                     1    5511.95       1                 1  \n",
       "1                     1    4783.20       1                 1  \n",
       "2                     1    3829.15       1                 1  \n",
       "3                     1    1108.20       0                 1  \n",
       "4                     1    3418.18       1                 1  \n",
       "...                 ...        ...     ...               ...  \n",
       "1041260               1   69650.41       1                 3  \n",
       "1041261               0   13587.38       1                 3  \n",
       "1041262               1  104629.78       0                 3  \n",
       "1041263               1   27521.41       1                 3  \n",
       "1041264               1   24832.23       1                 2  \n",
       "\n",
       "[1041265 rows x 20 columns]"
      ]
     },
     "execution_count": 49,
     "metadata": {},
     "output_type": "execute_result"
    }
   ],
   "source": [
    "insurance_data=pd.read_csv('Insurance_cleaned.csv')\n",
    "insurance_data"
   ]
  },
  {
   "cell_type": "code",
   "execution_count": 50,
   "id": "96944125",
   "metadata": {
    "colab": {
     "base_uri": "https://localhost:8080/",
     "height": 270
    },
    "id": "96944125",
    "outputId": "ddeb7bda-5e0a-479d-d0b7-48b6ddf0b57a"
   },
   "outputs": [
    {
     "data": {
      "text/html": [
       "<div>\n",
       "<style scoped>\n",
       "    .dataframe tbody tr th:only-of-type {\n",
       "        vertical-align: middle;\n",
       "    }\n",
       "\n",
       "    .dataframe tbody tr th {\n",
       "        vertical-align: top;\n",
       "    }\n",
       "\n",
       "    .dataframe thead th {\n",
       "        text-align: right;\n",
       "    }\n",
       "</style>\n",
       "<table border=\"1\" class=\"dataframe\">\n",
       "  <thead>\n",
       "    <tr style=\"text-align: right;\">\n",
       "      <th></th>\n",
       "      <th>Area_Service</th>\n",
       "      <th>Hospital_County</th>\n",
       "      <th>Age</th>\n",
       "      <th>Gender</th>\n",
       "      <th>Cultural_group</th>\n",
       "      <th>ethnicity</th>\n",
       "      <th>Days_spend_hsptl</th>\n",
       "      <th>Admission_type</th>\n",
       "      <th>Home_or_self_care</th>\n",
       "      <th>ccs_diagnosis_code</th>\n",
       "      <th>ccs_procedure_code</th>\n",
       "      <th>apr_drg_description</th>\n",
       "      <th>Mortality_risk</th>\n",
       "      <th>Surg_Description</th>\n",
       "      <th>Weight_baby</th>\n",
       "      <th>Abortion</th>\n",
       "      <th>Emergency_dept</th>\n",
       "      <th>Tot_charg</th>\n",
       "      <th>Result</th>\n",
       "      <th>Payment_Typology</th>\n",
       "    </tr>\n",
       "  </thead>\n",
       "  <tbody>\n",
       "    <tr>\n",
       "      <th>0</th>\n",
       "      <td>6</td>\n",
       "      <td>1</td>\n",
       "      <td>2</td>\n",
       "      <td>0</td>\n",
       "      <td>3</td>\n",
       "      <td>0</td>\n",
       "      <td>4</td>\n",
       "      <td>0</td>\n",
       "      <td>7</td>\n",
       "      <td>122</td>\n",
       "      <td>0</td>\n",
       "      <td>237</td>\n",
       "      <td>1.0</td>\n",
       "      <td>0</td>\n",
       "      <td>0</td>\n",
       "      <td>0</td>\n",
       "      <td>1</td>\n",
       "      <td>5511.95</td>\n",
       "      <td>1</td>\n",
       "      <td>1</td>\n",
       "    </tr>\n",
       "    <tr>\n",
       "      <th>1</th>\n",
       "      <td>6</td>\n",
       "      <td>1</td>\n",
       "      <td>4</td>\n",
       "      <td>0</td>\n",
       "      <td>3</td>\n",
       "      <td>0</td>\n",
       "      <td>4</td>\n",
       "      <td>5</td>\n",
       "      <td>17</td>\n",
       "      <td>197</td>\n",
       "      <td>0</td>\n",
       "      <td>38</td>\n",
       "      <td>2.0</td>\n",
       "      <td>0</td>\n",
       "      <td>0</td>\n",
       "      <td>0</td>\n",
       "      <td>1</td>\n",
       "      <td>4783.20</td>\n",
       "      <td>1</td>\n",
       "      <td>1</td>\n",
       "    </tr>\n",
       "    <tr>\n",
       "      <th>2</th>\n",
       "      <td>6</td>\n",
       "      <td>1</td>\n",
       "      <td>2</td>\n",
       "      <td>0</td>\n",
       "      <td>3</td>\n",
       "      <td>0</td>\n",
       "      <td>3</td>\n",
       "      <td>5</td>\n",
       "      <td>7</td>\n",
       "      <td>122</td>\n",
       "      <td>0</td>\n",
       "      <td>237</td>\n",
       "      <td>1.0</td>\n",
       "      <td>0</td>\n",
       "      <td>0</td>\n",
       "      <td>0</td>\n",
       "      <td>1</td>\n",
       "      <td>3829.15</td>\n",
       "      <td>1</td>\n",
       "      <td>1</td>\n",
       "    </tr>\n",
       "    <tr>\n",
       "      <th>3</th>\n",
       "      <td>6</td>\n",
       "      <td>1</td>\n",
       "      <td>0</td>\n",
       "      <td>0</td>\n",
       "      <td>3</td>\n",
       "      <td>0</td>\n",
       "      <td>1</td>\n",
       "      <td>5</td>\n",
       "      <td>7</td>\n",
       "      <td>122</td>\n",
       "      <td>0</td>\n",
       "      <td>237</td>\n",
       "      <td>1.0</td>\n",
       "      <td>0</td>\n",
       "      <td>0</td>\n",
       "      <td>0</td>\n",
       "      <td>1</td>\n",
       "      <td>1108.20</td>\n",
       "      <td>0</td>\n",
       "      <td>1</td>\n",
       "    </tr>\n",
       "    <tr>\n",
       "      <th>4</th>\n",
       "      <td>6</td>\n",
       "      <td>1</td>\n",
       "      <td>4</td>\n",
       "      <td>0</td>\n",
       "      <td>3</td>\n",
       "      <td>0</td>\n",
       "      <td>3</td>\n",
       "      <td>0</td>\n",
       "      <td>7</td>\n",
       "      <td>122</td>\n",
       "      <td>0</td>\n",
       "      <td>237</td>\n",
       "      <td>3.0</td>\n",
       "      <td>0</td>\n",
       "      <td>0</td>\n",
       "      <td>0</td>\n",
       "      <td>1</td>\n",
       "      <td>3418.18</td>\n",
       "      <td>1</td>\n",
       "      <td>1</td>\n",
       "    </tr>\n",
       "  </tbody>\n",
       "</table>\n",
       "</div>"
      ],
      "text/plain": [
       "   Area_Service  Hospital_County  Age  Gender  Cultural_group  ethnicity  \\\n",
       "0             6                1    2       0               3          0   \n",
       "1             6                1    4       0               3          0   \n",
       "2             6                1    2       0               3          0   \n",
       "3             6                1    0       0               3          0   \n",
       "4             6                1    4       0               3          0   \n",
       "\n",
       "   Days_spend_hsptl  Admission_type  Home_or_self_care  ccs_diagnosis_code  \\\n",
       "0                 4               0                  7                 122   \n",
       "1                 4               5                 17                 197   \n",
       "2                 3               5                  7                 122   \n",
       "3                 1               5                  7                 122   \n",
       "4                 3               0                  7                 122   \n",
       "\n",
       "   ccs_procedure_code  apr_drg_description  Mortality_risk  Surg_Description  \\\n",
       "0                   0                  237             1.0                 0   \n",
       "1                   0                   38             2.0                 0   \n",
       "2                   0                  237             1.0                 0   \n",
       "3                   0                  237             1.0                 0   \n",
       "4                   0                  237             3.0                 0   \n",
       "\n",
       "   Weight_baby  Abortion  Emergency_dept  Tot_charg  Result  Payment_Typology  \n",
       "0            0         0               1    5511.95       1                 1  \n",
       "1            0         0               1    4783.20       1                 1  \n",
       "2            0         0               1    3829.15       1                 1  \n",
       "3            0         0               1    1108.20       0                 1  \n",
       "4            0         0               1    3418.18       1                 1  "
      ]
     },
     "execution_count": 50,
     "metadata": {},
     "output_type": "execute_result"
    }
   ],
   "source": [
    "insurance_data.head()"
   ]
  },
  {
   "cell_type": "markdown",
   "id": "b0307a13",
   "metadata": {
    "id": "b0307a13"
   },
   "source": [
    "# Standardization"
   ]
  },
  {
   "cell_type": "markdown",
   "id": "60da9696",
   "metadata": {
    "id": "60da9696"
   },
   "source": [
    "## Standardization is done to put all the units in one frame(scale)i.e to make different units, as one unit."
   ]
  },
  {
   "cell_type": "code",
   "execution_count": 51,
   "id": "ba9c11e1",
   "metadata": {
    "id": "ba9c11e1"
   },
   "outputs": [],
   "source": [
    "x=insurance_data.drop(['Result'],axis=1)\n",
    "y=insurance_data[['Result']].sort_values(by='Result',ascending=True)"
   ]
  },
  {
   "cell_type": "code",
   "execution_count": 52,
   "id": "8cf5fbfe",
   "metadata": {
    "colab": {
     "base_uri": "https://localhost:8080/",
     "height": 488
    },
    "id": "8cf5fbfe",
    "outputId": "a6a59871-95e0-4d80-84a0-39cd451fecaa"
   },
   "outputs": [
    {
     "data": {
      "text/html": [
       "<div>\n",
       "<style scoped>\n",
       "    .dataframe tbody tr th:only-of-type {\n",
       "        vertical-align: middle;\n",
       "    }\n",
       "\n",
       "    .dataframe tbody tr th {\n",
       "        vertical-align: top;\n",
       "    }\n",
       "\n",
       "    .dataframe thead th {\n",
       "        text-align: right;\n",
       "    }\n",
       "</style>\n",
       "<table border=\"1\" class=\"dataframe\">\n",
       "  <thead>\n",
       "    <tr style=\"text-align: right;\">\n",
       "      <th></th>\n",
       "      <th>Area_Service</th>\n",
       "      <th>Hospital_County</th>\n",
       "      <th>Age</th>\n",
       "      <th>Gender</th>\n",
       "      <th>Cultural_group</th>\n",
       "      <th>ethnicity</th>\n",
       "      <th>Days_spend_hsptl</th>\n",
       "      <th>Admission_type</th>\n",
       "      <th>Home_or_self_care</th>\n",
       "      <th>ccs_diagnosis_code</th>\n",
       "      <th>ccs_procedure_code</th>\n",
       "      <th>apr_drg_description</th>\n",
       "      <th>Mortality_risk</th>\n",
       "      <th>Surg_Description</th>\n",
       "      <th>Weight_baby</th>\n",
       "      <th>Abortion</th>\n",
       "      <th>Emergency_dept</th>\n",
       "      <th>Tot_charg</th>\n",
       "      <th>Payment_Typology</th>\n",
       "    </tr>\n",
       "  </thead>\n",
       "  <tbody>\n",
       "    <tr>\n",
       "      <th>0</th>\n",
       "      <td>6</td>\n",
       "      <td>1</td>\n",
       "      <td>2</td>\n",
       "      <td>0</td>\n",
       "      <td>3</td>\n",
       "      <td>0</td>\n",
       "      <td>4</td>\n",
       "      <td>0</td>\n",
       "      <td>7</td>\n",
       "      <td>122</td>\n",
       "      <td>0</td>\n",
       "      <td>237</td>\n",
       "      <td>1.0</td>\n",
       "      <td>0</td>\n",
       "      <td>0</td>\n",
       "      <td>0</td>\n",
       "      <td>1</td>\n",
       "      <td>5511.95</td>\n",
       "      <td>1</td>\n",
       "    </tr>\n",
       "    <tr>\n",
       "      <th>1</th>\n",
       "      <td>6</td>\n",
       "      <td>1</td>\n",
       "      <td>4</td>\n",
       "      <td>0</td>\n",
       "      <td>3</td>\n",
       "      <td>0</td>\n",
       "      <td>4</td>\n",
       "      <td>5</td>\n",
       "      <td>17</td>\n",
       "      <td>197</td>\n",
       "      <td>0</td>\n",
       "      <td>38</td>\n",
       "      <td>2.0</td>\n",
       "      <td>0</td>\n",
       "      <td>0</td>\n",
       "      <td>0</td>\n",
       "      <td>1</td>\n",
       "      <td>4783.20</td>\n",
       "      <td>1</td>\n",
       "    </tr>\n",
       "    <tr>\n",
       "      <th>2</th>\n",
       "      <td>6</td>\n",
       "      <td>1</td>\n",
       "      <td>2</td>\n",
       "      <td>0</td>\n",
       "      <td>3</td>\n",
       "      <td>0</td>\n",
       "      <td>3</td>\n",
       "      <td>5</td>\n",
       "      <td>7</td>\n",
       "      <td>122</td>\n",
       "      <td>0</td>\n",
       "      <td>237</td>\n",
       "      <td>1.0</td>\n",
       "      <td>0</td>\n",
       "      <td>0</td>\n",
       "      <td>0</td>\n",
       "      <td>1</td>\n",
       "      <td>3829.15</td>\n",
       "      <td>1</td>\n",
       "    </tr>\n",
       "    <tr>\n",
       "      <th>3</th>\n",
       "      <td>6</td>\n",
       "      <td>1</td>\n",
       "      <td>0</td>\n",
       "      <td>0</td>\n",
       "      <td>3</td>\n",
       "      <td>0</td>\n",
       "      <td>1</td>\n",
       "      <td>5</td>\n",
       "      <td>7</td>\n",
       "      <td>122</td>\n",
       "      <td>0</td>\n",
       "      <td>237</td>\n",
       "      <td>1.0</td>\n",
       "      <td>0</td>\n",
       "      <td>0</td>\n",
       "      <td>0</td>\n",
       "      <td>1</td>\n",
       "      <td>1108.20</td>\n",
       "      <td>1</td>\n",
       "    </tr>\n",
       "    <tr>\n",
       "      <th>4</th>\n",
       "      <td>6</td>\n",
       "      <td>1</td>\n",
       "      <td>4</td>\n",
       "      <td>0</td>\n",
       "      <td>3</td>\n",
       "      <td>0</td>\n",
       "      <td>3</td>\n",
       "      <td>0</td>\n",
       "      <td>7</td>\n",
       "      <td>122</td>\n",
       "      <td>0</td>\n",
       "      <td>237</td>\n",
       "      <td>3.0</td>\n",
       "      <td>0</td>\n",
       "      <td>0</td>\n",
       "      <td>0</td>\n",
       "      <td>1</td>\n",
       "      <td>3418.18</td>\n",
       "      <td>1</td>\n",
       "    </tr>\n",
       "    <tr>\n",
       "      <th>...</th>\n",
       "      <td>...</td>\n",
       "      <td>...</td>\n",
       "      <td>...</td>\n",
       "      <td>...</td>\n",
       "      <td>...</td>\n",
       "      <td>...</td>\n",
       "      <td>...</td>\n",
       "      <td>...</td>\n",
       "      <td>...</td>\n",
       "      <td>...</td>\n",
       "      <td>...</td>\n",
       "      <td>...</td>\n",
       "      <td>...</td>\n",
       "      <td>...</td>\n",
       "      <td>...</td>\n",
       "      <td>...</td>\n",
       "      <td>...</td>\n",
       "      <td>...</td>\n",
       "      <td>...</td>\n",
       "    </tr>\n",
       "    <tr>\n",
       "      <th>1041260</th>\n",
       "      <td>4</td>\n",
       "      <td>2</td>\n",
       "      <td>4</td>\n",
       "      <td>0</td>\n",
       "      <td>1</td>\n",
       "      <td>1</td>\n",
       "      <td>6</td>\n",
       "      <td>1</td>\n",
       "      <td>18</td>\n",
       "      <td>106</td>\n",
       "      <td>29</td>\n",
       "      <td>28</td>\n",
       "      <td>3.0</td>\n",
       "      <td>0</td>\n",
       "      <td>0</td>\n",
       "      <td>0</td>\n",
       "      <td>1</td>\n",
       "      <td>69650.41</td>\n",
       "      <td>3</td>\n",
       "    </tr>\n",
       "    <tr>\n",
       "      <th>1041261</th>\n",
       "      <td>4</td>\n",
       "      <td>2</td>\n",
       "      <td>0</td>\n",
       "      <td>0</td>\n",
       "      <td>1</td>\n",
       "      <td>0</td>\n",
       "      <td>2</td>\n",
       "      <td>1</td>\n",
       "      <td>7</td>\n",
       "      <td>8</td>\n",
       "      <td>231</td>\n",
       "      <td>227</td>\n",
       "      <td>1.0</td>\n",
       "      <td>0</td>\n",
       "      <td>0</td>\n",
       "      <td>0</td>\n",
       "      <td>0</td>\n",
       "      <td>13587.38</td>\n",
       "      <td>3</td>\n",
       "    </tr>\n",
       "    <tr>\n",
       "      <th>1041262</th>\n",
       "      <td>4</td>\n",
       "      <td>2</td>\n",
       "      <td>3</td>\n",
       "      <td>1</td>\n",
       "      <td>1</td>\n",
       "      <td>1</td>\n",
       "      <td>13</td>\n",
       "      <td>1</td>\n",
       "      <td>15</td>\n",
       "      <td>151</td>\n",
       "      <td>88</td>\n",
       "      <td>99</td>\n",
       "      <td>4.0</td>\n",
       "      <td>0</td>\n",
       "      <td>0</td>\n",
       "      <td>0</td>\n",
       "      <td>1</td>\n",
       "      <td>104629.78</td>\n",
       "      <td>3</td>\n",
       "    </tr>\n",
       "    <tr>\n",
       "      <th>1041263</th>\n",
       "      <td>4</td>\n",
       "      <td>2</td>\n",
       "      <td>2</td>\n",
       "      <td>0</td>\n",
       "      <td>0</td>\n",
       "      <td>0</td>\n",
       "      <td>2</td>\n",
       "      <td>1</td>\n",
       "      <td>7</td>\n",
       "      <td>143</td>\n",
       "      <td>86</td>\n",
       "      <td>109</td>\n",
       "      <td>1.0</td>\n",
       "      <td>1</td>\n",
       "      <td>0</td>\n",
       "      <td>0</td>\n",
       "      <td>1</td>\n",
       "      <td>27521.41</td>\n",
       "      <td>3</td>\n",
       "    </tr>\n",
       "    <tr>\n",
       "      <th>1041264</th>\n",
       "      <td>4</td>\n",
       "      <td>2</td>\n",
       "      <td>3</td>\n",
       "      <td>1</td>\n",
       "      <td>1</td>\n",
       "      <td>1</td>\n",
       "      <td>2</td>\n",
       "      <td>1</td>\n",
       "      <td>7</td>\n",
       "      <td>106</td>\n",
       "      <td>0</td>\n",
       "      <td>28</td>\n",
       "      <td>1.0</td>\n",
       "      <td>0</td>\n",
       "      <td>0</td>\n",
       "      <td>0</td>\n",
       "      <td>1</td>\n",
       "      <td>24832.23</td>\n",
       "      <td>2</td>\n",
       "    </tr>\n",
       "  </tbody>\n",
       "</table>\n",
       "<p>1041265 rows × 19 columns</p>\n",
       "</div>"
      ],
      "text/plain": [
       "         Area_Service  Hospital_County  Age  Gender  Cultural_group  \\\n",
       "0                   6                1    2       0               3   \n",
       "1                   6                1    4       0               3   \n",
       "2                   6                1    2       0               3   \n",
       "3                   6                1    0       0               3   \n",
       "4                   6                1    4       0               3   \n",
       "...               ...              ...  ...     ...             ...   \n",
       "1041260             4                2    4       0               1   \n",
       "1041261             4                2    0       0               1   \n",
       "1041262             4                2    3       1               1   \n",
       "1041263             4                2    2       0               0   \n",
       "1041264             4                2    3       1               1   \n",
       "\n",
       "         ethnicity  Days_spend_hsptl  Admission_type  Home_or_self_care  \\\n",
       "0                0                 4               0                  7   \n",
       "1                0                 4               5                 17   \n",
       "2                0                 3               5                  7   \n",
       "3                0                 1               5                  7   \n",
       "4                0                 3               0                  7   \n",
       "...            ...               ...             ...                ...   \n",
       "1041260          1                 6               1                 18   \n",
       "1041261          0                 2               1                  7   \n",
       "1041262          1                13               1                 15   \n",
       "1041263          0                 2               1                  7   \n",
       "1041264          1                 2               1                  7   \n",
       "\n",
       "         ccs_diagnosis_code  ccs_procedure_code  apr_drg_description  \\\n",
       "0                       122                   0                  237   \n",
       "1                       197                   0                   38   \n",
       "2                       122                   0                  237   \n",
       "3                       122                   0                  237   \n",
       "4                       122                   0                  237   \n",
       "...                     ...                 ...                  ...   \n",
       "1041260                 106                  29                   28   \n",
       "1041261                   8                 231                  227   \n",
       "1041262                 151                  88                   99   \n",
       "1041263                 143                  86                  109   \n",
       "1041264                 106                   0                   28   \n",
       "\n",
       "         Mortality_risk  Surg_Description  Weight_baby  Abortion  \\\n",
       "0                   1.0                 0            0         0   \n",
       "1                   2.0                 0            0         0   \n",
       "2                   1.0                 0            0         0   \n",
       "3                   1.0                 0            0         0   \n",
       "4                   3.0                 0            0         0   \n",
       "...                 ...               ...          ...       ...   \n",
       "1041260             3.0                 0            0         0   \n",
       "1041261             1.0                 0            0         0   \n",
       "1041262             4.0                 0            0         0   \n",
       "1041263             1.0                 1            0         0   \n",
       "1041264             1.0                 0            0         0   \n",
       "\n",
       "         Emergency_dept  Tot_charg  Payment_Typology  \n",
       "0                     1    5511.95                 1  \n",
       "1                     1    4783.20                 1  \n",
       "2                     1    3829.15                 1  \n",
       "3                     1    1108.20                 1  \n",
       "4                     1    3418.18                 1  \n",
       "...                 ...        ...               ...  \n",
       "1041260               1   69650.41                 3  \n",
       "1041261               0   13587.38                 3  \n",
       "1041262               1  104629.78                 3  \n",
       "1041263               1   27521.41                 3  \n",
       "1041264               1   24832.23                 2  \n",
       "\n",
       "[1041265 rows x 19 columns]"
      ]
     },
     "execution_count": 52,
     "metadata": {},
     "output_type": "execute_result"
    }
   ],
   "source": [
    "x"
   ]
  },
  {
   "cell_type": "code",
   "execution_count": 53,
   "id": "1a547c6c",
   "metadata": {
    "colab": {
     "base_uri": "https://localhost:8080/",
     "height": 424
    },
    "id": "1a547c6c",
    "outputId": "b167d108-539b-45cf-b312-ac0008defe71"
   },
   "outputs": [
    {
     "data": {
      "text/html": [
       "<div>\n",
       "<style scoped>\n",
       "    .dataframe tbody tr th:only-of-type {\n",
       "        vertical-align: middle;\n",
       "    }\n",
       "\n",
       "    .dataframe tbody tr th {\n",
       "        vertical-align: top;\n",
       "    }\n",
       "\n",
       "    .dataframe thead th {\n",
       "        text-align: right;\n",
       "    }\n",
       "</style>\n",
       "<table border=\"1\" class=\"dataframe\">\n",
       "  <thead>\n",
       "    <tr style=\"text-align: right;\">\n",
       "      <th></th>\n",
       "      <th>Result</th>\n",
       "    </tr>\n",
       "  </thead>\n",
       "  <tbody>\n",
       "    <tr>\n",
       "      <th>520632</th>\n",
       "      <td>0</td>\n",
       "    </tr>\n",
       "    <tr>\n",
       "      <th>319471</th>\n",
       "      <td>0</td>\n",
       "    </tr>\n",
       "    <tr>\n",
       "      <th>801743</th>\n",
       "      <td>0</td>\n",
       "    </tr>\n",
       "    <tr>\n",
       "      <th>319463</th>\n",
       "      <td>0</td>\n",
       "    </tr>\n",
       "    <tr>\n",
       "      <th>319461</th>\n",
       "      <td>0</td>\n",
       "    </tr>\n",
       "    <tr>\n",
       "      <th>...</th>\n",
       "      <td>...</td>\n",
       "    </tr>\n",
       "    <tr>\n",
       "      <th>396625</th>\n",
       "      <td>1</td>\n",
       "    </tr>\n",
       "    <tr>\n",
       "      <th>396628</th>\n",
       "      <td>1</td>\n",
       "    </tr>\n",
       "    <tr>\n",
       "      <th>396629</th>\n",
       "      <td>1</td>\n",
       "    </tr>\n",
       "    <tr>\n",
       "      <th>396616</th>\n",
       "      <td>1</td>\n",
       "    </tr>\n",
       "    <tr>\n",
       "      <th>1041264</th>\n",
       "      <td>1</td>\n",
       "    </tr>\n",
       "  </tbody>\n",
       "</table>\n",
       "<p>1041265 rows × 1 columns</p>\n",
       "</div>"
      ],
      "text/plain": [
       "         Result\n",
       "520632        0\n",
       "319471        0\n",
       "801743        0\n",
       "319463        0\n",
       "319461        0\n",
       "...         ...\n",
       "396625        1\n",
       "396628        1\n",
       "396629        1\n",
       "396616        1\n",
       "1041264       1\n",
       "\n",
       "[1041265 rows x 1 columns]"
      ]
     },
     "execution_count": 53,
     "metadata": {},
     "output_type": "execute_result"
    }
   ],
   "source": [
    "y"
   ]
  },
  {
   "cell_type": "code",
   "execution_count": 54,
   "id": "acbe9402",
   "metadata": {
    "id": "acbe9402"
   },
   "outputs": [],
   "source": [
    "from sklearn.preprocessing import StandardScaler"
   ]
  },
  {
   "cell_type": "code",
   "execution_count": 55,
   "id": "1a9bb8ca",
   "metadata": {
    "id": "1a9bb8ca"
   },
   "outputs": [],
   "source": [
    "scaling=StandardScaler()"
   ]
  },
  {
   "cell_type": "code",
   "execution_count": 56,
   "id": "c223747b",
   "metadata": {
    "colab": {
     "base_uri": "https://localhost:8080/"
    },
    "id": "c223747b",
    "outputId": "d2928074-a76f-4c37-ef86-58083fcee7de"
   },
   "outputs": [
    {
     "data": {
      "text/plain": [
       "Index(['Area_Service', 'Hospital_County', 'Age', 'Gender', 'Cultural_group',\n",
       "       'ethnicity', 'Days_spend_hsptl', 'Admission_type', 'Home_or_self_care',\n",
       "       'ccs_diagnosis_code', 'ccs_procedure_code', 'apr_drg_description',\n",
       "       'Mortality_risk', 'Surg_Description', 'Weight_baby', 'Abortion',\n",
       "       'Emergency_dept', 'Tot_charg', 'Result', 'Payment_Typology'],\n",
       "      dtype='object')"
      ]
     },
     "execution_count": 56,
     "metadata": {},
     "output_type": "execute_result"
    }
   ],
   "source": [
    "insurance_data.columns"
   ]
  },
  {
   "cell_type": "code",
   "execution_count": 57,
   "id": "1c41b2c8",
   "metadata": {
    "colab": {
     "base_uri": "https://localhost:8080/"
    },
    "id": "1c41b2c8",
    "outputId": "4e3b4049-3bee-4da3-9f2b-c137e1e734c8"
   },
   "outputs": [
    {
     "data": {
      "text/plain": [
       "array([[ 1.67623077, -1.49793386, -0.34954194, ...,  0.87819322,\n",
       "        -0.39452453, -1.2159783 ],\n",
       "       [ 1.67623077, -1.49793386,  1.11434624, ...,  0.87819322,\n",
       "        -0.40776958, -1.2159783 ],\n",
       "       [ 1.67623077, -1.49793386, -0.34954194, ...,  0.87819322,\n",
       "        -0.42510946, -1.2159783 ],\n",
       "       ...,\n",
       "       [ 0.66558089, -1.43238199,  0.38240215, ...,  0.87819322,\n",
       "         1.40694435,  1.37564222],\n",
       "       [ 0.66558089, -1.43238199, -0.34954194, ...,  0.87819322,\n",
       "         0.00549792,  1.37564222],\n",
       "       [ 0.66558089, -1.43238199,  0.38240215, ...,  0.87819322,\n",
       "        -0.04337799,  0.07983196]])"
      ]
     },
     "execution_count": 57,
     "metadata": {},
     "output_type": "execute_result"
    }
   ],
   "source": [
    "scaling.fit_transform(x)"
   ]
  },
  {
   "cell_type": "code",
   "execution_count": 58,
   "id": "5bb316ad",
   "metadata": {
    "colab": {
     "base_uri": "https://localhost:8080/",
     "height": 488
    },
    "id": "5bb316ad",
    "outputId": "afb76cad-a72c-46fa-f2d6-73b739a72285"
   },
   "outputs": [
    {
     "data": {
      "text/html": [
       "<div>\n",
       "<style scoped>\n",
       "    .dataframe tbody tr th:only-of-type {\n",
       "        vertical-align: middle;\n",
       "    }\n",
       "\n",
       "    .dataframe tbody tr th {\n",
       "        vertical-align: top;\n",
       "    }\n",
       "\n",
       "    .dataframe thead th {\n",
       "        text-align: right;\n",
       "    }\n",
       "</style>\n",
       "<table border=\"1\" class=\"dataframe\">\n",
       "  <thead>\n",
       "    <tr style=\"text-align: right;\">\n",
       "      <th></th>\n",
       "      <th>Area_Service</th>\n",
       "      <th>Hospital_County</th>\n",
       "      <th>Age</th>\n",
       "      <th>Gender</th>\n",
       "      <th>Cultural_group</th>\n",
       "      <th>ethnicity</th>\n",
       "      <th>Days_spend_hsptl</th>\n",
       "      <th>Admission_type</th>\n",
       "      <th>Home_or_self_care</th>\n",
       "      <th>ccs_diagnosis_code</th>\n",
       "      <th>ccs_procedure_code</th>\n",
       "      <th>apr_drg_description</th>\n",
       "      <th>Mortality_risk</th>\n",
       "      <th>Surg_Description</th>\n",
       "      <th>Weight_baby</th>\n",
       "      <th>Abortion</th>\n",
       "      <th>Emergency_dept</th>\n",
       "      <th>Tot_charg</th>\n",
       "      <th>Payment_Typology</th>\n",
       "    </tr>\n",
       "  </thead>\n",
       "  <tbody>\n",
       "    <tr>\n",
       "      <th>0</th>\n",
       "      <td>1.676231</td>\n",
       "      <td>-1.497934</td>\n",
       "      <td>-0.349542</td>\n",
       "      <td>-0.876937</td>\n",
       "      <td>0.566444</td>\n",
       "      <td>-0.363116</td>\n",
       "      <td>-0.179991</td>\n",
       "      <td>-0.925115</td>\n",
       "      <td>-0.431916</td>\n",
       "      <td>-0.462745</td>\n",
       "      <td>-1.112121</td>\n",
       "      <td>0.819899</td>\n",
       "      <td>-0.762526</td>\n",
       "      <td>-0.549727</td>\n",
       "      <td>-0.302649</td>\n",
       "      <td>0.0</td>\n",
       "      <td>0.878193</td>\n",
       "      <td>-0.394525</td>\n",
       "      <td>-1.215978</td>\n",
       "    </tr>\n",
       "    <tr>\n",
       "      <th>1</th>\n",
       "      <td>1.676231</td>\n",
       "      <td>-1.497934</td>\n",
       "      <td>1.114346</td>\n",
       "      <td>-0.876937</td>\n",
       "      <td>0.566444</td>\n",
       "      <td>-0.363116</td>\n",
       "      <td>-0.179991</td>\n",
       "      <td>2.665850</td>\n",
       "      <td>2.196383</td>\n",
       "      <td>-0.009803</td>\n",
       "      <td>-1.112121</td>\n",
       "      <td>-1.217131</td>\n",
       "      <td>0.250080</td>\n",
       "      <td>-0.549727</td>\n",
       "      <td>-0.302649</td>\n",
       "      <td>0.0</td>\n",
       "      <td>0.878193</td>\n",
       "      <td>-0.407770</td>\n",
       "      <td>-1.215978</td>\n",
       "    </tr>\n",
       "    <tr>\n",
       "      <th>2</th>\n",
       "      <td>1.676231</td>\n",
       "      <td>-1.497934</td>\n",
       "      <td>-0.349542</td>\n",
       "      <td>-0.876937</td>\n",
       "      <td>0.566444</td>\n",
       "      <td>-0.363116</td>\n",
       "      <td>-0.305770</td>\n",
       "      <td>2.665850</td>\n",
       "      <td>-0.431916</td>\n",
       "      <td>-0.462745</td>\n",
       "      <td>-1.112121</td>\n",
       "      <td>0.819899</td>\n",
       "      <td>-0.762526</td>\n",
       "      <td>-0.549727</td>\n",
       "      <td>-0.302649</td>\n",
       "      <td>0.0</td>\n",
       "      <td>0.878193</td>\n",
       "      <td>-0.425109</td>\n",
       "      <td>-1.215978</td>\n",
       "    </tr>\n",
       "    <tr>\n",
       "      <th>3</th>\n",
       "      <td>1.676231</td>\n",
       "      <td>-1.497934</td>\n",
       "      <td>-1.813430</td>\n",
       "      <td>-0.876937</td>\n",
       "      <td>0.566444</td>\n",
       "      <td>-0.363116</td>\n",
       "      <td>-0.557327</td>\n",
       "      <td>2.665850</td>\n",
       "      <td>-0.431916</td>\n",
       "      <td>-0.462745</td>\n",
       "      <td>-1.112121</td>\n",
       "      <td>0.819899</td>\n",
       "      <td>-0.762526</td>\n",
       "      <td>-0.549727</td>\n",
       "      <td>-0.302649</td>\n",
       "      <td>0.0</td>\n",
       "      <td>0.878193</td>\n",
       "      <td>-0.474563</td>\n",
       "      <td>-1.215978</td>\n",
       "    </tr>\n",
       "    <tr>\n",
       "      <th>4</th>\n",
       "      <td>1.676231</td>\n",
       "      <td>-1.497934</td>\n",
       "      <td>1.114346</td>\n",
       "      <td>-0.876937</td>\n",
       "      <td>0.566444</td>\n",
       "      <td>-0.363116</td>\n",
       "      <td>-0.305770</td>\n",
       "      <td>-0.925115</td>\n",
       "      <td>-0.431916</td>\n",
       "      <td>-0.462745</td>\n",
       "      <td>-1.112121</td>\n",
       "      <td>0.819899</td>\n",
       "      <td>1.262686</td>\n",
       "      <td>-0.549727</td>\n",
       "      <td>-0.302649</td>\n",
       "      <td>0.0</td>\n",
       "      <td>0.878193</td>\n",
       "      <td>-0.432579</td>\n",
       "      <td>-1.215978</td>\n",
       "    </tr>\n",
       "    <tr>\n",
       "      <th>...</th>\n",
       "      <td>...</td>\n",
       "      <td>...</td>\n",
       "      <td>...</td>\n",
       "      <td>...</td>\n",
       "      <td>...</td>\n",
       "      <td>...</td>\n",
       "      <td>...</td>\n",
       "      <td>...</td>\n",
       "      <td>...</td>\n",
       "      <td>...</td>\n",
       "      <td>...</td>\n",
       "      <td>...</td>\n",
       "      <td>...</td>\n",
       "      <td>...</td>\n",
       "      <td>...</td>\n",
       "      <td>...</td>\n",
       "      <td>...</td>\n",
       "      <td>...</td>\n",
       "      <td>...</td>\n",
       "    </tr>\n",
       "    <tr>\n",
       "      <th>1041260</th>\n",
       "      <td>0.665581</td>\n",
       "      <td>-1.432382</td>\n",
       "      <td>1.114346</td>\n",
       "      <td>-0.876937</td>\n",
       "      <td>-1.223762</td>\n",
       "      <td>1.670991</td>\n",
       "      <td>0.071567</td>\n",
       "      <td>-0.206922</td>\n",
       "      <td>2.459213</td>\n",
       "      <td>-0.559373</td>\n",
       "      <td>-0.779932</td>\n",
       "      <td>-1.319495</td>\n",
       "      <td>1.262686</td>\n",
       "      <td>-0.549727</td>\n",
       "      <td>-0.302649</td>\n",
       "      <td>0.0</td>\n",
       "      <td>0.878193</td>\n",
       "      <td>0.771193</td>\n",
       "      <td>1.375642</td>\n",
       "    </tr>\n",
       "    <tr>\n",
       "      <th>1041261</th>\n",
       "      <td>0.665581</td>\n",
       "      <td>-1.432382</td>\n",
       "      <td>-1.813430</td>\n",
       "      <td>-0.876937</td>\n",
       "      <td>-1.223762</td>\n",
       "      <td>-0.363116</td>\n",
       "      <td>-0.431549</td>\n",
       "      <td>-0.206922</td>\n",
       "      <td>-0.431916</td>\n",
       "      <td>-1.151219</td>\n",
       "      <td>1.533936</td>\n",
       "      <td>0.717535</td>\n",
       "      <td>-0.762526</td>\n",
       "      <td>-0.549727</td>\n",
       "      <td>-0.302649</td>\n",
       "      <td>0.0</td>\n",
       "      <td>-1.138702</td>\n",
       "      <td>-0.247753</td>\n",
       "      <td>1.375642</td>\n",
       "    </tr>\n",
       "    <tr>\n",
       "      <th>1041262</th>\n",
       "      <td>0.665581</td>\n",
       "      <td>-1.432382</td>\n",
       "      <td>0.382402</td>\n",
       "      <td>1.140093</td>\n",
       "      <td>-1.223762</td>\n",
       "      <td>1.670991</td>\n",
       "      <td>0.952018</td>\n",
       "      <td>-0.206922</td>\n",
       "      <td>1.670723</td>\n",
       "      <td>-0.287608</td>\n",
       "      <td>-0.104099</td>\n",
       "      <td>-0.592715</td>\n",
       "      <td>2.275293</td>\n",
       "      <td>-0.549727</td>\n",
       "      <td>-0.302649</td>\n",
       "      <td>0.0</td>\n",
       "      <td>0.878193</td>\n",
       "      <td>1.406944</td>\n",
       "      <td>1.375642</td>\n",
       "    </tr>\n",
       "    <tr>\n",
       "      <th>1041263</th>\n",
       "      <td>0.665581</td>\n",
       "      <td>-1.432382</td>\n",
       "      <td>-0.349542</td>\n",
       "      <td>-0.876937</td>\n",
       "      <td>-2.118866</td>\n",
       "      <td>-0.363116</td>\n",
       "      <td>-0.431549</td>\n",
       "      <td>-0.206922</td>\n",
       "      <td>-0.431916</td>\n",
       "      <td>-0.335922</td>\n",
       "      <td>-0.127009</td>\n",
       "      <td>-0.490352</td>\n",
       "      <td>-0.762526</td>\n",
       "      <td>1.819085</td>\n",
       "      <td>-0.302649</td>\n",
       "      <td>0.0</td>\n",
       "      <td>0.878193</td>\n",
       "      <td>0.005498</td>\n",
       "      <td>1.375642</td>\n",
       "    </tr>\n",
       "    <tr>\n",
       "      <th>1041264</th>\n",
       "      <td>0.665581</td>\n",
       "      <td>-1.432382</td>\n",
       "      <td>0.382402</td>\n",
       "      <td>1.140093</td>\n",
       "      <td>-1.223762</td>\n",
       "      <td>1.670991</td>\n",
       "      <td>-0.431549</td>\n",
       "      <td>-0.206922</td>\n",
       "      <td>-0.431916</td>\n",
       "      <td>-0.559373</td>\n",
       "      <td>-1.112121</td>\n",
       "      <td>-1.319495</td>\n",
       "      <td>-0.762526</td>\n",
       "      <td>-0.549727</td>\n",
       "      <td>-0.302649</td>\n",
       "      <td>0.0</td>\n",
       "      <td>0.878193</td>\n",
       "      <td>-0.043378</td>\n",
       "      <td>0.079832</td>\n",
       "    </tr>\n",
       "  </tbody>\n",
       "</table>\n",
       "<p>1041265 rows × 19 columns</p>\n",
       "</div>"
      ],
      "text/plain": [
       "         Area_Service  Hospital_County       Age    Gender  Cultural_group  \\\n",
       "0            1.676231        -1.497934 -0.349542 -0.876937        0.566444   \n",
       "1            1.676231        -1.497934  1.114346 -0.876937        0.566444   \n",
       "2            1.676231        -1.497934 -0.349542 -0.876937        0.566444   \n",
       "3            1.676231        -1.497934 -1.813430 -0.876937        0.566444   \n",
       "4            1.676231        -1.497934  1.114346 -0.876937        0.566444   \n",
       "...               ...              ...       ...       ...             ...   \n",
       "1041260      0.665581        -1.432382  1.114346 -0.876937       -1.223762   \n",
       "1041261      0.665581        -1.432382 -1.813430 -0.876937       -1.223762   \n",
       "1041262      0.665581        -1.432382  0.382402  1.140093       -1.223762   \n",
       "1041263      0.665581        -1.432382 -0.349542 -0.876937       -2.118866   \n",
       "1041264      0.665581        -1.432382  0.382402  1.140093       -1.223762   \n",
       "\n",
       "         ethnicity  Days_spend_hsptl  Admission_type  Home_or_self_care  \\\n",
       "0        -0.363116         -0.179991       -0.925115          -0.431916   \n",
       "1        -0.363116         -0.179991        2.665850           2.196383   \n",
       "2        -0.363116         -0.305770        2.665850          -0.431916   \n",
       "3        -0.363116         -0.557327        2.665850          -0.431916   \n",
       "4        -0.363116         -0.305770       -0.925115          -0.431916   \n",
       "...            ...               ...             ...                ...   \n",
       "1041260   1.670991          0.071567       -0.206922           2.459213   \n",
       "1041261  -0.363116         -0.431549       -0.206922          -0.431916   \n",
       "1041262   1.670991          0.952018       -0.206922           1.670723   \n",
       "1041263  -0.363116         -0.431549       -0.206922          -0.431916   \n",
       "1041264   1.670991         -0.431549       -0.206922          -0.431916   \n",
       "\n",
       "         ccs_diagnosis_code  ccs_procedure_code  apr_drg_description  \\\n",
       "0                 -0.462745           -1.112121             0.819899   \n",
       "1                 -0.009803           -1.112121            -1.217131   \n",
       "2                 -0.462745           -1.112121             0.819899   \n",
       "3                 -0.462745           -1.112121             0.819899   \n",
       "4                 -0.462745           -1.112121             0.819899   \n",
       "...                     ...                 ...                  ...   \n",
       "1041260           -0.559373           -0.779932            -1.319495   \n",
       "1041261           -1.151219            1.533936             0.717535   \n",
       "1041262           -0.287608           -0.104099            -0.592715   \n",
       "1041263           -0.335922           -0.127009            -0.490352   \n",
       "1041264           -0.559373           -1.112121            -1.319495   \n",
       "\n",
       "         Mortality_risk  Surg_Description  Weight_baby  Abortion  \\\n",
       "0             -0.762526         -0.549727    -0.302649       0.0   \n",
       "1              0.250080         -0.549727    -0.302649       0.0   \n",
       "2             -0.762526         -0.549727    -0.302649       0.0   \n",
       "3             -0.762526         -0.549727    -0.302649       0.0   \n",
       "4              1.262686         -0.549727    -0.302649       0.0   \n",
       "...                 ...               ...          ...       ...   \n",
       "1041260        1.262686         -0.549727    -0.302649       0.0   \n",
       "1041261       -0.762526         -0.549727    -0.302649       0.0   \n",
       "1041262        2.275293         -0.549727    -0.302649       0.0   \n",
       "1041263       -0.762526          1.819085    -0.302649       0.0   \n",
       "1041264       -0.762526         -0.549727    -0.302649       0.0   \n",
       "\n",
       "         Emergency_dept  Tot_charg  Payment_Typology  \n",
       "0              0.878193  -0.394525         -1.215978  \n",
       "1              0.878193  -0.407770         -1.215978  \n",
       "2              0.878193  -0.425109         -1.215978  \n",
       "3              0.878193  -0.474563         -1.215978  \n",
       "4              0.878193  -0.432579         -1.215978  \n",
       "...                 ...        ...               ...  \n",
       "1041260        0.878193   0.771193          1.375642  \n",
       "1041261       -1.138702  -0.247753          1.375642  \n",
       "1041262        0.878193   1.406944          1.375642  \n",
       "1041263        0.878193   0.005498          1.375642  \n",
       "1041264        0.878193  -0.043378          0.079832  \n",
       "\n",
       "[1041265 rows x 19 columns]"
      ]
     },
     "execution_count": 58,
     "metadata": {},
     "output_type": "execute_result"
    }
   ],
   "source": [
    "x_scaled=pd.DataFrame(data=scaling.fit_transform(x),columns=x.columns)\n",
    "x_scaled"
   ]
  },
  {
   "cell_type": "markdown",
   "id": "d4ecd2c4",
   "metadata": {},
   "source": [
    "# Data is not balanced so we need to balance data\n",
    "# (But for ensamble techique balancing does't effect much)"
   ]
  },
  {
   "cell_type": "code",
   "execution_count": 59,
   "id": "700f0a57",
   "metadata": {},
   "outputs": [
    {
     "data": {
      "text/plain": [
       "((1560722, 19), (1560722, 1))"
      ]
     },
     "execution_count": 59,
     "metadata": {},
     "output_type": "execute_result"
    }
   ],
   "source": [
    "from imblearn.over_sampling import RandomOverSampler\n",
    "os=RandomOverSampler(sampling_strategy='minority')\n",
    "x_os,y_os =os.fit_resample(x,y)\n",
    "x_os.shape,y_os.shape"
   ]
  },
  {
   "cell_type": "code",
   "execution_count": 60,
   "id": "83c23593",
   "metadata": {},
   "outputs": [
    {
     "data": {
      "text/plain": [
       "Result\n",
       "0         780361\n",
       "1         780361\n",
       "dtype: int64"
      ]
     },
     "execution_count": 60,
     "metadata": {},
     "output_type": "execute_result"
    }
   ],
   "source": [
    "y_os.value_counts()"
   ]
  },
  {
   "cell_type": "markdown",
   "id": "c59b14f3",
   "metadata": {
    "id": "c59b14f3"
   },
   "source": [
    "#  Model Building (Logistic Regression)"
   ]
  },
  {
   "cell_type": "code",
   "execution_count": 61,
   "id": "40bc3638",
   "metadata": {
    "id": "40bc3638"
   },
   "outputs": [],
   "source": [
    "from sklearn.model_selection import train_test_split\n",
    "x_train,x_test,y_train,y_test=train_test_split(x_scaled,y,test_size=0.2, random_state=143, shuffle=True)"
   ]
  },
  {
   "cell_type": "code",
   "execution_count": 62,
   "id": "4cc888ea",
   "metadata": {
    "colab": {
     "base_uri": "https://localhost:8080/"
    },
    "id": "4cc888ea",
    "outputId": "85572d58-616d-4e7a-9d92-1e6cf7b99c3a"
   },
   "outputs": [
    {
     "data": {
      "text/plain": [
       "((833012, 19), (833012, 1))"
      ]
     },
     "execution_count": 62,
     "metadata": {},
     "output_type": "execute_result"
    }
   ],
   "source": [
    "x_train.shape,y_train.shape"
   ]
  },
  {
   "cell_type": "code",
   "execution_count": 63,
   "id": "b85ef95c",
   "metadata": {
    "colab": {
     "base_uri": "https://localhost:8080/"
    },
    "id": "b85ef95c",
    "outputId": "e0b62172-87e9-4f02-b9c1-debd9b7b4440"
   },
   "outputs": [
    {
     "data": {
      "text/plain": [
       "((208253, 19), (208253, 1))"
      ]
     },
     "execution_count": 63,
     "metadata": {},
     "output_type": "execute_result"
    }
   ],
   "source": [
    "x_test.shape, y_test.shape"
   ]
  },
  {
   "cell_type": "markdown",
   "id": "71d35c14",
   "metadata": {
    "id": "71d35c14"
   },
   "source": [
    "# Model Training"
   ]
  },
  {
   "cell_type": "code",
   "execution_count": 64,
   "id": "afaa873e",
   "metadata": {
    "id": "afaa873e"
   },
   "outputs": [],
   "source": [
    "from sklearn.linear_model import LogisticRegression"
   ]
  },
  {
   "cell_type": "code",
   "execution_count": 65,
   "id": "b12be2ce",
   "metadata": {
    "colab": {
     "base_uri": "https://localhost:8080/"
    },
    "id": "b12be2ce",
    "outputId": "9b1f7ec5-182f-492e-d9fc-2f2a77d22f4e"
   },
   "outputs": [
    {
     "data": {
      "text/plain": [
       "LogisticRegression()"
      ]
     },
     "execution_count": 65,
     "metadata": {},
     "output_type": "execute_result"
    }
   ],
   "source": [
    "logistic_model = LogisticRegression()\n",
    "logistic_model.fit(x_train,y_train)"
   ]
  },
  {
   "cell_type": "code",
   "execution_count": 66,
   "id": "4b3ad80d",
   "metadata": {
    "colab": {
     "base_uri": "https://localhost:8080/"
    },
    "id": "4b3ad80d",
    "outputId": "ef82bc72-9736-4352-dae5-fc1dc46dd233"
   },
   "outputs": [
    {
     "data": {
      "text/plain": [
       "array([1.83311413])"
      ]
     },
     "execution_count": 66,
     "metadata": {},
     "output_type": "execute_result"
    }
   ],
   "source": [
    "logistic_model.intercept_"
   ]
  },
  {
   "cell_type": "code",
   "execution_count": 67,
   "id": "8c131061",
   "metadata": {
    "colab": {
     "base_uri": "https://localhost:8080/"
    },
    "id": "8c131061",
    "outputId": "8a2c1ced-d62c-4134-eae0-c0f29b9c9bcd"
   },
   "outputs": [
    {
     "data": {
      "text/plain": [
       "array([[-1.93358508,  0.23717612, -0.19439951,  0.04091034, -0.24922571,\n",
       "        -0.13098205, -0.47709967, -0.15673144, -0.00464589,  0.20210121,\n",
       "         0.06868767, -0.05089622, -0.18692111, -0.34524397, -0.06610124,\n",
       "         0.        ,  0.04844209,  1.11237848,  0.70403549]])"
      ]
     },
     "execution_count": 67,
     "metadata": {},
     "output_type": "execute_result"
    }
   ],
   "source": [
    "logistic_model.coef_"
   ]
  },
  {
   "cell_type": "markdown",
   "id": "afa40250",
   "metadata": {
    "id": "afa40250"
   },
   "source": [
    "# Model Testing | Model Evaluation"
   ]
  },
  {
   "cell_type": "code",
   "execution_count": 68,
   "id": "55d02eaf",
   "metadata": {
    "id": "55d02eaf"
   },
   "outputs": [],
   "source": [
    "y_pred_train_lg=logistic_model.predict(x_train)"
   ]
  },
  {
   "cell_type": "code",
   "execution_count": 69,
   "id": "cce01eb1",
   "metadata": {
    "colab": {
     "base_uri": "https://localhost:8080/"
    },
    "id": "cce01eb1",
    "outputId": "24d6ec7d-75a7-42f5-cd3c-57c2259fed6e"
   },
   "outputs": [
    {
     "data": {
      "text/plain": [
       "array([1, 1, 1, ..., 1, 0, 1], dtype=int64)"
      ]
     },
     "execution_count": 69,
     "metadata": {},
     "output_type": "execute_result"
    }
   ],
   "source": [
    "y_pred_train_lg"
   ]
  },
  {
   "cell_type": "code",
   "execution_count": 70,
   "id": "e0d91a32",
   "metadata": {
    "id": "e0d91a32"
   },
   "outputs": [],
   "source": [
    "from sklearn.metrics import accuracy_score,confusion_matrix,classification_report"
   ]
  },
  {
   "cell_type": "code",
   "execution_count": 71,
   "id": "f59ccc3a",
   "metadata": {
    "colab": {
     "base_uri": "https://localhost:8080/"
    },
    "id": "f59ccc3a",
    "outputId": "fa86bc83-40f8-435f-f068-ab15c4dffaee"
   },
   "outputs": [
    {
     "name": "stdout",
     "output_type": "stream",
     "text": [
      "accuracy_score 0.8816463628375102\n",
      "------------------------------------------------------\n",
      "confusion_matrix \n",
      " [[141505  67177]\n",
      " [ 31413 592917]]\n",
      "------------------------------------------------------\n",
      "classification_report \n",
      "               precision    recall  f1-score   support\n",
      "\n",
      "           0       0.82      0.68      0.74    208682\n",
      "           1       0.90      0.95      0.92    624330\n",
      "\n",
      "    accuracy                           0.88    833012\n",
      "   macro avg       0.86      0.81      0.83    833012\n",
      "weighted avg       0.88      0.88      0.88    833012\n",
      "\n"
     ]
    }
   ],
   "source": [
    "print('accuracy_score', accuracy_score(y_train,y_pred_train_lg))\n",
    "print('------------------------------------------------------')\n",
    "print('confusion_matrix \\n', confusion_matrix(y_train,y_pred_train_lg))\n",
    "print('------------------------------------------------------')\n",
    "print('classification_report \\n', classification_report(y_train,y_pred_train_lg))"
   ]
  },
  {
   "cell_type": "code",
   "execution_count": 72,
   "id": "d5b4c68e",
   "metadata": {
    "id": "d5b4c68e"
   },
   "outputs": [],
   "source": [
    "y_pred_test_lg=logistic_model.predict(x_test)"
   ]
  },
  {
   "cell_type": "code",
   "execution_count": 73,
   "id": "6fb35e5e",
   "metadata": {
    "colab": {
     "base_uri": "https://localhost:8080/"
    },
    "id": "6fb35e5e",
    "outputId": "af864d6b-0223-4969-d8e9-386a46dc1488"
   },
   "outputs": [
    {
     "name": "stdout",
     "output_type": "stream",
     "text": [
      "accuracy_score 0.8812213989714434\n",
      "-------------------------------------------------------\n",
      "confusion_matrix \n",
      " [[ 35252  16970]\n",
      " [  7766 148265]]\n",
      "-------------------------------------------------------\n",
      "classification_report \n",
      "               precision    recall  f1-score   support\n",
      "\n",
      "           0       0.82      0.68      0.74     52222\n",
      "           1       0.90      0.95      0.92    156031\n",
      "\n",
      "    accuracy                           0.88    208253\n",
      "   macro avg       0.86      0.81      0.83    208253\n",
      "weighted avg       0.88      0.88      0.88    208253\n",
      "\n"
     ]
    }
   ],
   "source": [
    "print('accuracy_score', accuracy_score(y_test,y_pred_test_lg))\n",
    "print('-------------------------------------------------------')\n",
    "print('confusion_matrix \\n', confusion_matrix(y_test,y_pred_test_lg))\n",
    "print('-------------------------------------------------------')\n",
    "print('classification_report \\n', classification_report(y_test,y_pred_test_lg))"
   ]
  },
  {
   "cell_type": "code",
   "execution_count": 74,
   "id": "eb3b8a4a",
   "metadata": {
    "colab": {
     "base_uri": "https://localhost:8080/"
    },
    "id": "eb3b8a4a",
    "outputId": "9e7d30ee-754d-4e52-c8a4-ade811b49754"
   },
   "outputs": [
    {
     "name": "stdout",
     "output_type": "stream",
     "text": [
      "Area Under the Curve[AUC]: 0.8138872063000356\n"
     ]
    }
   ],
   "source": [
    "from sklearn.metrics import roc_curve,roc_auc_score\n",
    "fpr,tpr,thresholds = roc_curve(y,logistic_model.predict_proba(x_scaled)[:,1])\n",
    "auc=roc_auc_score(y_train,y_pred_train_lg)\n",
    "print('Area Under the Curve[AUC]:',auc)"
   ]
  },
  {
   "cell_type": "code",
   "execution_count": 75,
   "id": "80a013f4",
   "metadata": {
    "colab": {
     "base_uri": "https://localhost:8080/",
     "height": 296
    },
    "id": "80a013f4",
    "outputId": "e4f513a2-d725-4a0c-aeac-58f11acde214"
   },
   "outputs": [
    {
     "data": {
      "text/plain": [
       "Text(0, 0.5, 'True Positive Rate')"
      ]
     },
     "execution_count": 75,
     "metadata": {},
     "output_type": "execute_result"
    },
    {
     "data": {
      "image/png": "[encoded data removed]",
      "text/plain": [
       "<Figure size 432x288 with 1 Axes>"
      ]
     },
     "metadata": {
      "needs_background": "light"
     },
     "output_type": "display_data"
    }
   ],
   "source": [
    "import matplotlib.pyplot as plt\n",
    "plt.plot(fpr, tpr, color='green', label='logit model (area = %0.2f)'%auc)\n",
    "plt.plot([0,1],[0,1], 'k--')\n",
    "plt.xlabel('False Positive Rate or [1 - True Negative Rate]')\n",
    "plt.ylabel('True Positive Rate')"
   ]
  },
  {
   "cell_type": "markdown",
   "id": "7b72eb13",
   "metadata": {
    "id": "7b72eb13"
   },
   "source": [
    "#  Decision Tree"
   ]
  },
  {
   "cell_type": "code",
   "execution_count": 76,
   "id": "f509d418",
   "metadata": {
    "id": "f509d418"
   },
   "outputs": [],
   "source": [
    "from sklearn.model_selection import train_test_split\n",
    "x_train,x_test,y_train,y_test=train_test_split(x_scaled,y,test_size=0.2, random_state=42, shuffle=True)"
   ]
  },
  {
   "cell_type": "code",
   "execution_count": 77,
   "id": "d4037f35",
   "metadata": {
    "colab": {
     "base_uri": "https://localhost:8080/"
    },
    "id": "d4037f35",
    "outputId": "94c3bb73-659f-4702-8074-70c1d483d1a2"
   },
   "outputs": [
    {
     "data": {
      "text/plain": [
       "DecisionTreeClassifier(max_depth=15)"
      ]
     },
     "execution_count": 77,
     "metadata": {},
     "output_type": "execute_result"
    }
   ],
   "source": [
    "from sklearn.tree import DecisionTreeClassifier\n",
    "dt_model=DecisionTreeClassifier(max_depth= 15, criterion='gini')\n",
    "dt_model.fit(x_train,y_train)"
   ]
  },
  {
   "cell_type": "code",
   "execution_count": 78,
   "id": "72dfd9e3",
   "metadata": {
    "id": "72dfd9e3"
   },
   "outputs": [],
   "source": [
    "y_pred_train_dt=dt_model.predict(x_train)"
   ]
  },
  {
   "cell_type": "code",
   "execution_count": 79,
   "id": "47762791",
   "metadata": {
    "colab": {
     "base_uri": "https://localhost:8080/"
    },
    "id": "47762791",
    "outputId": "dd89d37f-587a-4986-8533-d559d3d9f682"
   },
   "outputs": [
    {
     "name": "stdout",
     "output_type": "stream",
     "text": [
      "accuracy_score 0.9762824545144608\n",
      "-------------------------------------------------------\n",
      "confusion_matrix \n",
      " [[194982  13561]\n",
      " [  6196 618273]]\n",
      "-------------------------------------------------------\n",
      "classification_report \n",
      "               precision    recall  f1-score   support\n",
      "\n",
      "           0       0.97      0.93      0.95    208543\n",
      "           1       0.98      0.99      0.98    624469\n",
      "\n",
      "    accuracy                           0.98    833012\n",
      "   macro avg       0.97      0.96      0.97    833012\n",
      "weighted avg       0.98      0.98      0.98    833012\n",
      "\n"
     ]
    }
   ],
   "source": [
    "print('accuracy_score', accuracy_score(y_train,y_pred_train_dt))\n",
    "print('-------------------------------------------------------')\n",
    "print('confusion_matrix \\n', confusion_matrix(y_train,y_pred_train_dt))\n",
    "print('-------------------------------------------------------')\n",
    "print('classification_report \\n', classification_report(y_train,y_pred_train_dt))"
   ]
  },
  {
   "cell_type": "code",
   "execution_count": 80,
   "id": "f8b333a2",
   "metadata": {
    "id": "f8b333a2"
   },
   "outputs": [],
   "source": [
    "y_pred_test_dt=dt_model.predict(x_test)"
   ]
  },
  {
   "cell_type": "code",
   "execution_count": 81,
   "id": "895af88d",
   "metadata": {
    "colab": {
     "base_uri": "https://localhost:8080/"
    },
    "id": "895af88d",
    "outputId": "70daf22b-27a9-477a-f0de-d7ff5bd2aead"
   },
   "outputs": [
    {
     "name": "stdout",
     "output_type": "stream",
     "text": [
      "accuracy_score 0.973296903285907\n",
      "-------------------------------------------------------\n",
      "confusion_matrix \n",
      " [[ 48587   3774]\n",
      " [  1787 154105]]\n",
      "-------------------------------------------------------\n",
      "classification_report \n",
      "               precision    recall  f1-score   support\n",
      "\n",
      "           0       0.96      0.93      0.95     52361\n",
      "           1       0.98      0.99      0.98    155892\n",
      "\n",
      "    accuracy                           0.97    208253\n",
      "   macro avg       0.97      0.96      0.96    208253\n",
      "weighted avg       0.97      0.97      0.97    208253\n",
      "\n"
     ]
    }
   ],
   "source": [
    "print('accuracy_score', accuracy_score(y_test,y_pred_test_dt))\n",
    "print('-------------------------------------------------------')\n",
    "print('confusion_matrix \\n', confusion_matrix(y_test,y_pred_test_dt))\n",
    "print('-------------------------------------------------------')\n",
    "print('classification_report \\n', classification_report(y_test,y_pred_test_dt))"
   ]
  },
  {
   "cell_type": "markdown",
   "id": "a9f9cb80",
   "metadata": {
    "id": "a9f9cb80"
   },
   "source": [
    "#  Random Forest"
   ]
  },
  {
   "cell_type": "code",
   "execution_count": 82,
   "id": "379dcc17",
   "metadata": {
    "id": "379dcc17"
   },
   "outputs": [],
   "source": [
    "from sklearn.model_selection import train_test_split\n",
    "x_train,x_test,y_train,y_test=train_test_split(x_scaled,y,test_size=0.20)"
   ]
  },
  {
   "cell_type": "code",
   "execution_count": 83,
   "id": "0dd853c0",
   "metadata": {
    "id": "0dd853c0",
    "outputId": "52be6555-4b89-4675-a476-dd9d80bcd3c1"
   },
   "outputs": [
    {
     "data": {
      "text/plain": [
       "RandomForestClassifier(criterion='entropy', max_depth=18, n_estimators=25,\n",
       "                       n_jobs=-1, oob_score=True)"
      ]
     },
     "execution_count": 83,
     "metadata": {},
     "output_type": "execute_result"
    }
   ],
   "source": [
    "from sklearn import tree\n",
    "from sklearn.ensemble import RandomForestClassifier\n",
    "rf_classifier=RandomForestClassifier(n_estimators=25,max_depth=18,criterion='entropy',n_jobs=-1,oob_score=True)\n",
    "rf_classifier.fit(x_train,y_train)"
   ]
  },
  {
   "cell_type": "code",
   "execution_count": 84,
   "id": "3bdc269f",
   "metadata": {
    "id": "3bdc269f"
   },
   "outputs": [],
   "source": [
    "y_pred_train_rf=rf_classifier.predict(x_train)"
   ]
  },
  {
   "cell_type": "code",
   "execution_count": 85,
   "id": "3e7f3992",
   "metadata": {
    "id": "3e7f3992",
    "outputId": "94463d51-8552-464f-e7bd-21094d476653"
   },
   "outputs": [
    {
     "name": "stdout",
     "output_type": "stream",
     "text": [
      "accuracy_score 0.9779558997949609\n",
      "-------------------------------------------------------\n",
      "confusion_matrix \n",
      " [[196979  11808]\n",
      " [  6555 617670]]\n",
      "-------------------------------------------------------\n",
      "classification_report \n",
      "               precision    recall  f1-score   support\n",
      "\n",
      "           0       0.97      0.94      0.96    208787\n",
      "           1       0.98      0.99      0.99    624225\n",
      "\n",
      "    accuracy                           0.98    833012\n",
      "   macro avg       0.97      0.97      0.97    833012\n",
      "weighted avg       0.98      0.98      0.98    833012\n",
      "\n"
     ]
    }
   ],
   "source": [
    "print('accuracy_score', accuracy_score(y_train,y_pred_train_rf))\n",
    "print('-------------------------------------------------------')\n",
    "print('confusion_matrix \\n', confusion_matrix(y_train,y_pred_train_rf))\n",
    "print('-------------------------------------------------------')\n",
    "print('classification_report \\n', classification_report(y_train,y_pred_train_rf))"
   ]
  },
  {
   "cell_type": "code",
   "execution_count": 86,
   "id": "51172d32",
   "metadata": {
    "id": "51172d32"
   },
   "outputs": [],
   "source": [
    "y_pred_test_rf=rf_classifier.predict(x_test)"
   ]
  },
  {
   "cell_type": "code",
   "execution_count": 87,
   "id": "a52ec951",
   "metadata": {
    "id": "a52ec951"
   },
   "outputs": [],
   "source": [
    "df=pd.DataFrame(y_pred_test_rf)"
   ]
  },
  {
   "cell_type": "code",
   "execution_count": 88,
   "id": "b07dfc91",
   "metadata": {
    "id": "b07dfc91",
    "outputId": "56f5f9cb-662e-4379-c433-97026f62828a"
   },
   "outputs": [
    {
     "name": "stdout",
     "output_type": "stream",
     "text": [
      "Area Under the Curve[AUC]: 0.9664718667178951\n"
     ]
    }
   ],
   "source": [
    "fpr,tpr,thresholds = roc_curve(y,rf_classifier.predict_proba(x_scaled)[:,1])\n",
    "auc=roc_auc_score(y_train,y_pred_train_rf)\n",
    "print('Area Under the Curve[AUC]:',auc)"
   ]
  },
  {
   "cell_type": "code",
   "execution_count": 89,
   "id": "00f30f34",
   "metadata": {
    "id": "00f30f34",
    "outputId": "a3728c2a-6c42-4396-b611-77174f0df46e"
   },
   "outputs": [
    {
     "data": {
      "text/plain": [
       "Text(0, 0.5, 'True Positive Rate')"
      ]
     },
     "execution_count": 89,
     "metadata": {},
     "output_type": "execute_result"
    },
    {
     "data": {
      "image/png": "[encoded data removed]",
      "text/plain": [
       "<Figure size 432x288 with 1 Axes>"
      ]
     },
     "metadata": {
      "needs_background": "light"
     },
     "output_type": "display_data"
    }
   ],
   "source": [
    "import matplotlib.pyplot as plt\n",
    "plt.plot(fpr, tpr, color='green', label='logit model (area = %0.2f)'%auc)\n",
    "plt.plot([0,1],[0,1], 'k--')\n",
    "plt.xlabel('False Positive Rate or [1 - True Negative Rate]')\n",
    "plt.ylabel('True Positive Rate')"
   ]
  },
  {
   "cell_type": "code",
   "execution_count": 90,
   "id": "0c5508b2",
   "metadata": {
    "id": "0c5508b2",
    "outputId": "75e2e276-6a39-46fe-dfad-aa67c2ba1fbb"
   },
   "outputs": [
    {
     "name": "stdout",
     "output_type": "stream",
     "text": [
      "accuracy_score 0.9744637532232429\n",
      "-------------------------------------------------------\n",
      "confusion_matrix \n",
      " [[ 48750   3367]\n",
      " [  1951 154185]]\n",
      "-------------------------------------------------------\n",
      "classification_report \n",
      "               precision    recall  f1-score   support\n",
      "\n",
      "           0       0.96      0.94      0.95     52117\n",
      "           1       0.98      0.99      0.98    156136\n",
      "\n",
      "    accuracy                           0.97    208253\n",
      "   macro avg       0.97      0.96      0.97    208253\n",
      "weighted avg       0.97      0.97      0.97    208253\n",
      "\n"
     ]
    }
   ],
   "source": [
    "print('accuracy_score', accuracy_score(y_test,y_pred_test_rf))\n",
    "print('-------------------------------------------------------')\n",
    "print('confusion_matrix \\n', confusion_matrix(y_test,y_pred_test_rf))\n",
    "print('-------------------------------------------------------')\n",
    "print('classification_report \\n', classification_report(y_test,y_pred_test_rf))"
   ]
  },
  {
   "cell_type": "code",
   "execution_count": 91,
   "id": "4bb83911",
   "metadata": {
    "id": "4bb83911",
    "outputId": "1fa8fb18-0f59-4ad2-f51e-597f0d7891e3"
   },
   "outputs": [
    {
     "name": "stdout",
     "output_type": "stream",
     "text": [
      "[0 0 1 ... 1 1 1]\n"
     ]
    }
   ],
   "source": [
    "print(y_pred_train_rf)"
   ]
  },
  {
   "cell_type": "code",
   "execution_count": 92,
   "id": "622abf48",
   "metadata": {
    "id": "622abf48",
    "outputId": "894d137c-6589-4b36-8aaa-6308b017c038"
   },
   "outputs": [
    {
     "data": {
      "text/plain": [
       "array([0, 1, 1, ..., 1, 1, 1], dtype=int64)"
      ]
     },
     "execution_count": 92,
     "metadata": {},
     "output_type": "execute_result"
    }
   ],
   "source": [
    "y_pred_test_rf"
   ]
  },
  {
   "cell_type": "code",
   "execution_count": 93,
   "id": "1d099086",
   "metadata": {},
   "outputs": [],
   "source": [
    "import pickle"
   ]
  },
  {
   "cell_type": "code",
   "execution_count": 94,
   "id": "9bdf9dcc",
   "metadata": {},
   "outputs": [],
   "source": [
    "filename='final_model.sav'\n",
    "pickle.dump(rf_classifier,open(filename,'wb'))"
   ]
  },
  {
   "cell_type": "code",
   "execution_count": null,
   "id": "c31a2ab9",
   "metadata": {},
   "outputs": [],
   "source": []
  }
 ],
 "metadata": {
  "colab": {
   "name": "Untitled.ipynb",
   "provenance": []
  },
  "kernelspec": {
   "display_name": "Python 3 (ipykernel)",
   "language": "python",
   "name": "python3"
  },
  "language_info": {
   "codemirror_mode": {
    "name": "ipython",
    "version": 3
   },
   "file_extension": ".py",
   "mimetype": "text/x-python",
   "name": "python",
   "nbconvert_exporter": "python",
   "pygments_lexer": "ipython3",
   "version": "3.9.7"
  }
 },
 "nbformat": 4,
 "nbformat_minor": 5
}
